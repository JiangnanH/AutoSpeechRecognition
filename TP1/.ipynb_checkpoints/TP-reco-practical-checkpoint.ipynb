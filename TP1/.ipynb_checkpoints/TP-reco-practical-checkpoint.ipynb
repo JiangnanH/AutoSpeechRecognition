{
 "cells": [
  {
   "cell_type": "code",
   "execution_count": 50,
   "metadata": {
    "ExecuteTime": {
     "end_time": "2020-11-17T00:05:14.524043Z",
     "start_time": "2020-11-17T00:05:14.512279Z"
    }
   },
   "outputs": [],
   "source": [
    "import doctest\n",
    "import struct\n",
    "import wave\n",
    "from glob import glob\n",
    "\n",
    "import os\n",
    "import numpy as np\n",
    "from matplotlib import pyplot as plt\n",
    "from numpy import fft"
   ]
  },
  {
   "cell_type": "code",
   "execution_count": 2,
   "metadata": {
    "ExecuteTime": {
     "end_time": "2020-11-16T21:23:06.785619Z",
     "start_time": "2020-11-16T21:23:06.779192Z"
    }
   },
   "outputs": [],
   "source": [
    "def readwav(fname):\n",
    "    \"\"\"\n",
    "    Parameters\n",
    "    ----------\n",
    "    fname : str\n",
    "        The filename of the wave file to process\n",
    "\n",
    "    Returns\n",
    "    -------\n",
    "    (x, fs) : tuple\n",
    "\n",
    "    x : np.array\n",
    "        The 1-dim. PCM audio signal\n",
    "\n",
    "    fs : int\n",
    "        The sampling frequency\n",
    "    \"\"\"\n",
    "    with wave.open(fname) as wav:\n",
    "        n = wav.getnframes()\n",
    "        frames = wav.readframes(n)\n",
    "        x = struct.unpack(\"h\" * n, frames)\n",
    "        fs = wav.getframerate()\n",
    "    return np.array(x), fs"
   ]
  },
  {
   "cell_type": "code",
   "execution_count": 3,
   "metadata": {
    "ExecuteTime": {
     "end_time": "2020-11-16T21:23:07.042886Z",
     "start_time": "2020-11-16T21:23:07.037957Z"
    }
   },
   "outputs": [],
   "source": [
    "# readwav(\"digits/train/ae_1a.wav\")"
   ]
  },
  {
   "cell_type": "markdown",
   "metadata": {},
   "source": [
    "1 or 2 lines of code for each function below, no need for any description of your code"
   ]
  },
  {
   "cell_type": "code",
   "execution_count": 4,
   "metadata": {
    "ExecuteTime": {
     "end_time": "2020-11-16T21:23:07.755968Z",
     "start_time": "2020-11-16T21:23:07.748570Z"
    }
   },
   "outputs": [],
   "source": [
    "def mel(f):\n",
    "    \"\"\"\n",
    "    Frequency converter from Hz to Mel\n",
    "\n",
    "    Parameters\n",
    "    ----------\n",
    "    f : int, float or np.array\n",
    "        The frequency (Hz)\n",
    "\n",
    "    Returns\n",
    "    -------\n",
    "    mel : float or np.array\n",
    "        The frequency (Mel)\n",
    "\n",
    "    Examples\n",
    "    --------\n",
    "    >>> x = np.linspace(200, 4000, 20)\n",
    "    >>> with np.printoptions(precision=2):\n",
    "    ...     print(mel(x))\n",
    "    [  283.23  509.38  697.65  858.93  999.99 1125.34 ... 2146.06]\n",
    "    \"\"\"\n",
    "    \n",
    "    return 2595 * np.log10(1+f/700)\n",
    "\n",
    "\n",
    "def hertz(m):\n",
    "    \"\"\"\n",
    "    Frequency converter from Mel to Hz\n",
    "\n",
    "    Parameters\n",
    "    ----------\n",
    "    mel : int, float or np.array\n",
    "        The frequency (Mel)\n",
    "\n",
    "    Returns\n",
    "    -------\n",
    "    f : float or np.array\n",
    "        The frequency (Hz)\n",
    "\n",
    "    Examples\n",
    "    --------\n",
    "    >>> x = np.linspace(200, 2000, 20)\n",
    "    >>> with np.printoptions(precision=2):\n",
    "    ...     print(hertz(x))\n",
    "    [  135.93  209.24  288.97  375.7   470.04  572.64 ... 3428.68]\n",
    "    \"\"\"\n",
    "    return 700 * (10**(m/2595)-1)"
   ]
  },
  {
   "cell_type": "code",
   "execution_count": 5,
   "metadata": {
    "ExecuteTime": {
     "end_time": "2020-11-16T21:23:08.125479Z",
     "start_time": "2020-11-16T21:23:08.113756Z"
    }
   },
   "outputs": [],
   "source": [
    "def melbank(nfilt, win_n, fs):\n",
    "    \"\"\"\n",
    "    Computing of the MFCC coefficients of a whole wave file\n",
    "\n",
    "    Parameters\n",
    "    ----------\n",
    "    nfilt : int\n",
    "        The number of melbank filters\n",
    "\n",
    "    win_n : int\n",
    "        The window size (in samples)\n",
    "\n",
    "    fs : int\n",
    "        The sampling frequency (Hz)\n",
    "\n",
    "    Returns\n",
    "    -------\n",
    "    melb : np.array\n",
    "        The 2-dim. (nfilt, win_n/2+1) mel-bank filters\n",
    "\n",
    "    Examples\n",
    "    --------\n",
    "    >>> melb = melbank(nfilt=24, win_n=256, fs=8000)\n",
    "    >>> melb.shape\n",
    "    (24, 129)\n",
    "    >>> with np.printoptions(precision=2, suppress=True, edgeitems=6):\n",
    "    ...     print(melb)\n",
    "    [[0.   1.   0.5  0.   0.   0.   ... 0.   0.   0.   0.   0.   0.  ]\n",
    "     [0.   0.   0.5  1.   0.5  0.   ... 0.   0.   0.   0.   0.   0.  ]\n",
    "     [0.   0.   0.   0.   0.5  1.   ... 0.   0.   0.   0.   0.   0.  ]\n",
    "     [0.   0.   0.   0.   0.   0.   ... 0.   0.   0.   0.   0.   0.  ]\n",
    "     [0.   0.   0.   0.   0.   0.   ... 0.   0.   0.   0.   0.   0.  ]\n",
    "     [0.   0.   0.   0.   0.   0.   ... 0.   0.   0.   0.   0.   0.  ]\n",
    "     ...\n",
    "     [0.   0.   0.   0.   0.   0.   ... 0.   0.   0.   0.   0.   0.  ]\n",
    "     [0.   0.   0.   0.   0.   0.   ... 0.   0.   0.   0.   0.   0.  ]\n",
    "     [0.   0.   0.   0.   0.   0.   ... 0.   0.   0.   0.   0.   0.  ]\n",
    "     [0.   0.   0.   0.   0.   0.   ... 0.   0.   0.   0.   0.   0.  ]\n",
    "     [0.   0.   0.   0.   0.   0.   ... 0.   0.   0.   0.   0.   0.  ]\n",
    "     [0.   0.   0.   0.   0.   0.   ... 0.36 0.27 0.18 0.09 0.   0.  ]]\n",
    "    >>> with np.printoptions(precision=2, suppress=True, edgeitems=6):\n",
    "    ...     print(melb[-1])\n",
    "    [0.   0. ... 0.1  0.2 ... 1.   0.91 0.82 0.73 ... 0.18 0.09 0.   0.  ]\n",
    "    \"\"\"\n",
    "    melb = np.zeros((nfilt, win_n // 2 + 1))\n",
    "    melstep = mel(fs / 2) / (nfilt + 1)\n",
    "\n",
    "    for i in range(nfilt):\n",
    "        left = int(hertz(melstep * i) * win_n / fs)\n",
    "        middle = int(hertz(melstep * (i + 1)) * win_n / fs)\n",
    "        right = int(hertz(melstep * (i + 2)) * win_n / fs)\n",
    "\n",
    "        melb[i, left : middle + 1] = (\n",
    "            np.arange(middle - left + 1) * 1.0 / (middle - left)\n",
    "        )\n",
    "        melb[i, middle : right + 1] = 1.0 - np.arange(\n",
    "            right - middle + 1\n",
    "        ) * 1.0 / (right - middle)\n",
    "\n",
    "    return melb"
   ]
  },
  {
   "cell_type": "markdown",
   "metadata": {},
   "source": [
    "\\<describe here in few lines your implementation of the function below\\>"
   ]
  },
  {
   "cell_type": "code",
   "execution_count": 25,
   "metadata": {
    "ExecuteTime": {
     "end_time": "2020-11-16T22:06:40.818050Z",
     "start_time": "2020-11-16T22:06:40.806104Z"
    }
   },
   "outputs": [],
   "source": [
    "def mfcc(y, melb, nc):\n",
    "    \"\"\"\n",
    "    Computing of the MFCC coefficients of a single frame\n",
    "\n",
    "    Parameters\n",
    "    ----------\n",
    "    y : np.array\n",
    "        The 1-dim. frame signal\n",
    "\n",
    "    melb: np.array\n",
    "        The 2-dim. mel-bank filters\n",
    "\n",
    "    nc: int\n",
    "        The number of coefficients\n",
    "\n",
    "    Returns\n",
    "    -------\n",
    "    cc : np.array\n",
    "        The 1-dim cepstral coefficients\n",
    "\n",
    "    Examples\n",
    "    --------\n",
    "    >>> int16 = np.iinfo(np.int16)\n",
    "    >>> rng = np.random.default_rng(0)\n",
    "    >>> y = rng.integers(int16.min, int16.max, 256)\n",
    "    >>> melb = melbank(nfilt=24, win_n=256, fs=8000)\n",
    "    >>> cc = mfcc(y, melb, nc=13)\n",
    "    >>> cc.shape\n",
    "    (13,)\n",
    "    \"\"\"\n",
    "    s = np.abs(fft.rfft(y))\n",
    "    e = melb @ s\n",
    "    c = fft.irfft(np.log(e + 1e-16))\n",
    "    c = c[:nc]\n",
    "    c[0] = np.log(np.sum(y**2) + 1e-16) - e[0]\n",
    "    return c"
   ]
  },
  {
   "cell_type": "code",
   "execution_count": null,
   "metadata": {},
   "outputs": [],
   "source": [
    "def feature_delta(c):\n",
    "    d_c = c[]"
   ]
  },
  {
   "cell_type": "code",
   "execution_count": 144,
   "metadata": {
    "ExecuteTime": {
     "end_time": "2020-11-17T10:51:45.673708Z",
     "start_time": "2020-11-17T10:51:45.645186Z"
    }
   },
   "outputs": [
    {
     "name": "stdout",
     "output_type": "stream",
     "text": [
      "[1, 2, 3, 4, 2, 4, 2]\n"
     ]
    }
   ],
   "source": [
    "c1 = [1,2,3,4]\n",
    "c2 = [2,4,2]\n",
    "print(c1+c2)"
   ]
  },
  {
   "cell_type": "code",
   "execution_count": 26,
   "metadata": {
    "ExecuteTime": {
     "end_time": "2020-11-16T22:06:49.192009Z",
     "start_time": "2020-11-16T22:06:49.166988Z"
    }
   },
   "outputs": [
    {
     "data": {
      "text/plain": [
       "(13,)"
      ]
     },
     "execution_count": 26,
     "metadata": {},
     "output_type": "execute_result"
    }
   ],
   "source": [
    "int16 = np.iinfo(np.int16)\n",
    "rng = np.random.default_rng(0)\n",
    "y = rng.integers(int16.min, int16.max, 256)\n",
    "melb = melbank(nfilt=24, win_n=256, fs=8000)\n",
    "cc = mfcc(y, melb, nc=13)\n",
    "cc.shape"
   ]
  },
  {
   "cell_type": "markdown",
   "metadata": {},
   "source": [
    "\\<describe here in few lines your implementation of the function below\\>"
   ]
  },
  {
   "cell_type": "code",
   "execution_count": 227,
   "metadata": {
    "ExecuteTime": {
     "end_time": "2020-11-17T11:33:25.820300Z",
     "start_time": "2020-11-17T11:33:25.783407Z"
    }
   },
   "outputs": [],
   "source": [
    "def wav2mfcc(fname, nc=13, nfilt=24, win=0.032, step=0.010):\n",
    "    \"\"\"\n",
    "    Computing of the MFCC coefficients of a whole wave file\n",
    "\n",
    "    Parameters\n",
    "    ----------\n",
    "    fname : str\n",
    "        The filename of the wave file to process\n",
    "\n",
    "    nc : int\n",
    "        The number of cepstral coefficients\n",
    "\n",
    "    nfilt : int\n",
    "        The number of melbank filters\n",
    "\n",
    "    win : float\n",
    "        The window size (s)\n",
    "\n",
    "    step : float\n",
    "        The step size (s)\n",
    "\n",
    "    Returns\n",
    "    -------\n",
    "    c : np.array\n",
    "        The 2-dim. (n_frames, nc) cepstral coefficients of the whole file\n",
    "    \"\"\"\n",
    "    \n",
    "    x, fs = readwav(fname)\n",
    "    \n",
    "    #x = preemph(x)\n",
    "    \n",
    "    win_n = int(win*fs)\n",
    "    step_n = int(step*fs)\n",
    "    n_frames = int((len(x)-win_n)/step_n)\n",
    "    \n",
    "    ### Cepstral Coefficients\n",
    "    c = list()\n",
    "    melb = melbank(nfilt=nfilt, win_n=win_n, fs=fs)\n",
    "    \n",
    "    for i in range(n_frames):\n",
    "        w = 0.54 - 0.46*np.cos(2*np.pi*i/(n_frames-1)) ### Hamming window\n",
    "        y = w * x[step_n*i:step_n*i + win_n]\n",
    "        cc = mfcc(y, melb, nc=13)\n",
    "        c.append(cc)\n",
    "    \n",
    "    ### Feature delta\n",
    "    d_c = np.zeros(np.array(c).shape)\n",
    "    d_c[1:-1] = (np.array(c)[2:] - np.array(c)[:-2])/2\n",
    "    \n",
    "    for i in range(len(c)):\n",
    "        c[i] = list(c[i]) + list(d_c[i])\n",
    "    \n",
    "    return np.array(c[1:-1])"
   ]
  },
  {
   "cell_type": "markdown",
   "metadata": {},
   "source": [
    "\\<describe here in few lines your implementation of the function below\\>"
   ]
  },
  {
   "cell_type": "code",
   "execution_count": 169,
   "metadata": {
    "ExecuteTime": {
     "end_time": "2020-11-17T11:16:13.211891Z",
     "start_time": "2020-11-17T11:16:13.205164Z"
    }
   },
   "outputs": [],
   "source": [
    "def euclid(v1, v2):\n",
    "    \"\"\"\n",
    "    Computation of the Euclidean distance between the MFCC frames\n",
    "\n",
    "    Parameters\n",
    "    ----------\n",
    "    v1 : np.array\n",
    "        1-dim. MFCC frame\n",
    "\n",
    "    v2 : np.array\n",
    "        1-dim. MFCC frame\n",
    "\n",
    "    Returns\n",
    "    -------\n",
    "    dist : np.float\n",
    "        The Euclidean distance value\n",
    "    \"\"\"\n",
    "    return np.sqrt(np.sum((v1-v2)**2))"
   ]
  },
  {
   "cell_type": "markdown",
   "metadata": {},
   "source": [
    "\\<describe here in few lines your implementation of the function below\\>"
   ]
  },
  {
   "cell_type": "code",
   "execution_count": 170,
   "metadata": {
    "ExecuteTime": {
     "end_time": "2020-11-17T11:16:15.109397Z",
     "start_time": "2020-11-17T11:16:15.094750Z"
    }
   },
   "outputs": [],
   "source": [
    "def preemph(x, alpha=0.97):\n",
    "    \"\"\"\n",
    "    (Optional)\n",
    "\n",
    "    Applying the pre-emphasis step to the PCM audio signal:\n",
    "    to decrease high frequency energy\n",
    "\n",
    "    Parameters\n",
    "    ----------\n",
    "    x : np.array\n",
    "        The 1-dim. PCM audio signal\n",
    "\n",
    "    alpha : int\n",
    "        The pre-emphasis coefficient\n",
    "\n",
    "    Returns\n",
    "    -------\n",
    "    x_pre : np.array\n",
    "        The 1-dim. filtered audio signal\n",
    "    \"\"\"\n",
    "    x[1:] = x[1:] - alpha * x[:-1]\n",
    "    return x"
   ]
  },
  {
   "cell_type": "markdown",
   "metadata": {},
   "source": [
    "\\<describe here in few lines your implementation of the function below\\>"
   ]
  },
  {
   "cell_type": "code",
   "execution_count": 236,
   "metadata": {
    "ExecuteTime": {
     "end_time": "2020-11-17T11:34:56.042459Z",
     "start_time": "2020-11-17T11:34:55.996514Z"
    }
   },
   "outputs": [],
   "source": [
    "def dtw(c1, c2):\n",
    "    \"\"\"\n",
    "    Computation of DTW between MFCC signals\n",
    "\n",
    "    Parameters\n",
    "    ----------\n",
    "    c1 : np.array\n",
    "        2-dim. MFCC signal\n",
    "\n",
    "    c1 : np.array\n",
    "        2-dim. MFCC signal\n",
    "\n",
    "    Returns\n",
    "    -------\n",
    "    dist : np.float\n",
    "        The DTW distance value\n",
    "    \"\"\"\n",
    "    g = np.zeros([c1.shape[0],c2.shape[0]])\n",
    "    g[0,1:c1.shape[0]] = np.inf\n",
    "    g[1:c1.shape[0],0] = np.inf\n",
    "    \n",
    "    for i in range(1,c1.shape[0]):\n",
    "        for j in range(1,c2.shape[0]):\n",
    "            prec = [g[i-1,j-1],g[i,j-1],g[i-1,j]]\n",
    "            g[i,j] = min(prec) + euclid(c1[i],c2[j])\n",
    "    \n",
    "    return g[-1,-1]      "
   ]
  },
  {
   "cell_type": "markdown",
   "metadata": {},
   "source": [
    "Write below your computation script\n",
    "\n",
    "\\<describe here in few lines your implementation below\\>"
   ]
  },
  {
   "cell_type": "markdown",
   "metadata": {},
   "source": [
    "Single test example:"
   ]
  },
  {
   "cell_type": "code",
   "execution_count": 246,
   "metadata": {
    "ExecuteTime": {
     "end_time": "2020-11-17T11:38:13.475141Z",
     "start_time": "2020-11-17T11:38:13.424156Z"
    }
   },
   "outputs": [],
   "source": [
    "test_file = \"./digits/test/cp_1a.wav\"\n",
    "test_mfcc = wav2mfcc(test_file)"
   ]
  },
  {
   "cell_type": "code",
   "execution_count": 247,
   "metadata": {
    "ExecuteTime": {
     "end_time": "2020-11-17T11:38:31.074844Z",
     "start_time": "2020-11-17T11:38:13.805905Z"
    }
   },
   "outputs": [],
   "source": [
    "final_dtw = []\n",
    "for t in train_mfcc:\n",
    "    final_dtw.append(dtw(test_mfcc,t))"
   ]
  },
  {
   "cell_type": "code",
   "execution_count": 256,
   "metadata": {
    "ExecuteTime": {
     "end_time": "2020-11-17T11:51:46.311823Z",
     "start_time": "2020-11-17T11:51:46.265052Z"
    }
   },
   "outputs": [
    {
     "name": "stdout",
     "output_type": "stream",
     "text": [
      "predict file: lh_ob.wav\n",
      "real file:    cp_1a.wav\n",
      "\n"
     ]
    }
   ],
   "source": [
    "predict_file = train_files[final_dtw.index(min(final_dtw))]\n",
    "print('predict file: '+predict_file)\n",
    "print('real file:    '+test_file[14:])\n",
    "\n",
    "'''\n",
    "# compute the average of each number in train set to augmente the accuracy -> seems don't work\n",
    "\n",
    "one = []\n",
    "two = []\n",
    "three = []\n",
    "four = []\n",
    "five = []\n",
    "six = []\n",
    "seven = []\n",
    "eight = []\n",
    "night = []\n",
    "o = []\n",
    "z = []\n",
    "\n",
    "for i in range(len(train_files)):\n",
    "    #print(train_files[i][3])\n",
    "    if train_files[i][3] == str(1):\n",
    "        \n",
    "        one.append(final_dtw[i])\n",
    "        \n",
    "    if train_files[i][3] == str(2):\n",
    "        \n",
    "        two.append(final_dtw[i])\n",
    "        \n",
    "    if train_files[i][3] == str(3):\n",
    "        \n",
    "        three.append(final_dtw[i])\n",
    "        \n",
    "    if train_files[i][3] == str(4):\n",
    "        \n",
    "        four.append(final_dtw[i])\n",
    "        \n",
    "    if train_files[i][3] == str(5):\n",
    "        \n",
    "        five.append(final_dtw[i])\n",
    "        \n",
    "    if train_files[i][3] == str(6):\n",
    "        \n",
    "        six.append(final_dtw[i])\n",
    "        \n",
    "    if train_files[i][3] == str(7):\n",
    "        \n",
    "        seven.append(final_dtw[i])\n",
    "        \n",
    "    if train_files[i][3] == str(8):\n",
    "        \n",
    "        eight.append(final_dtw[i])\n",
    "        \n",
    "    if train_files[i][3] == str(9):\n",
    "        \n",
    "        night.append(final_dtw[i])\n",
    "        \n",
    "    if train_files[i][3] == 'o':\n",
    "        \n",
    "        o.append(final_dtw[i])\n",
    "        \n",
    "    if train_files[i][3] == 'z':\n",
    "        \n",
    "        z.append(final_dtw[i])\n",
    "        \n",
    "print(np.mean(np.array(one)))\n",
    "print(np.mean(np.array(two)))\n",
    "print(np.mean(np.array(three)))\n",
    "print(np.mean(np.array(four)))\n",
    "print(np.mean(np.array(five)))\n",
    "print(np.mean(np.array(six)))\n",
    "print(np.mean(np.array(seven)))\n",
    "print(np.mean(np.array(eight)))\n",
    "print(np.mean(np.array(night)))\n",
    "print(np.mean(np.array(o)))\n",
    "print(np.mean(np.array(z)))\n",
    "'''\n",
    "print()"
   ]
  },
  {
   "cell_type": "markdown",
   "metadata": {},
   "source": [
    "Compute accuracy on test set (very slow, takes about 30 mins)"
   ]
  },
  {
   "cell_type": "code",
   "execution_count": 232,
   "metadata": {
    "ExecuteTime": {
     "end_time": "2020-11-17T11:34:09.849326Z",
     "start_time": "2020-11-17T11:34:07.651791Z"
    }
   },
   "outputs": [],
   "source": [
    "test_filePath = \"./digits/test/\"\n",
    "train_filePath = \"./digits/train/\"\n",
    "\n",
    "test_files = os.listdir(test_filePath)\n",
    "train_files = os.listdir(train_filePath)\n",
    "\n",
    "test_mfcc = []\n",
    "train_mfcc = []\n",
    "for f in test_files:\n",
    "    test_mfcc.append(wav2mfcc(test_filePath+f))\n",
    "for f in train_files:\n",
    "    train_mfcc.append(wav2mfcc(train_filePath+f))"
   ]
  },
  {
   "cell_type": "code",
   "execution_count": 92,
   "metadata": {
    "ExecuteTime": {
     "end_time": "2020-11-17T01:03:11.540004Z",
     "start_time": "2020-11-17T00:28:32.176961Z"
    }
   },
   "outputs": [],
   "source": [
    "final_dtw = np.zeros([len(test_files),len(train_files)])\n",
    "for i in range(len(test_mfcc)):\n",
    "    for j in range(len(train_mfcc)):\n",
    "        final_dtw[i,j] = dtw(test_mfcc[i],train_mfcc[j])"
   ]
  },
  {
   "cell_type": "code",
   "execution_count": 99,
   "metadata": {
    "ExecuteTime": {
     "end_time": "2020-11-17T01:07:50.800896Z",
     "start_time": "2020-11-17T01:07:50.777444Z"
    }
   },
   "outputs": [],
   "source": [
    "min_index = np.argmin(final_dtw, axis=1)\n",
    "\n",
    "predict_files = []\n",
    "for i in range(len(test_files)):\n",
    "    predict_files.append(train_files[min_index[i]])"
   ]
  },
  {
   "cell_type": "code",
   "execution_count": 103,
   "metadata": {
    "ExecuteTime": {
     "end_time": "2020-11-17T01:10:28.435092Z",
     "start_time": "2020-11-17T01:10:28.384637Z"
    }
   },
   "outputs": [
    {
     "name": "stdout",
     "output_type": "stream",
     "text": [
      "13\n",
      "98\n",
      "0.1326530612244898\n"
     ]
    }
   ],
   "source": [
    "acc = 0\n",
    "for i in range(len(test_files)):\n",
    "    if predict_files[i][3] == test_files[i][3]:\n",
    "        acc = acc + 1\n",
    "\n",
    "print(acc)\n",
    "print(len(test_files))\n",
    "print(acc/len(test_files))"
   ]
  },
  {
   "cell_type": "markdown",
   "metadata": {},
   "source": [
    "Uncomment to test the functions including a doctest in their docstring"
   ]
  },
  {
   "cell_type": "code",
   "execution_count": 12,
   "metadata": {},
   "outputs": [],
   "source": [
    "# doctest.testmod(optionflags=doctest.ELLIPSIS | doctest.NORMALIZE_WHITESPACE)"
   ]
  },
  {
   "cell_type": "markdown",
   "metadata": {},
   "source": [
    "---"
   ]
  }
 ],
 "metadata": {
  "kernelspec": {
   "display_name": "Python 3",
   "language": "python",
   "name": "python3"
  },
  "language_info": {
   "codemirror_mode": {
    "name": "ipython",
    "version": 3
   },
   "file_extension": ".py",
   "mimetype": "text/x-python",
   "name": "python",
   "nbconvert_exporter": "python",
   "pygments_lexer": "ipython3",
   "version": "3.6.9"
  }
 },
 "nbformat": 4,
 "nbformat_minor": 4
}
